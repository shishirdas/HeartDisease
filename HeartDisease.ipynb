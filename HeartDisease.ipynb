{
 "cells": [
  {
   "cell_type": "markdown",
   "metadata": {},
   "source": [
    "<center><h1>Live Project Demo<h1><center>"
   ]
  },
  {
   "cell_type": "markdown",
   "metadata": {},
   "source": [
    "# 1. Data Collection"
   ]
  },
  {
   "cell_type": "code",
   "execution_count": 1,
   "metadata": {},
   "outputs": [],
   "source": [
    "import pandas as pd\n",
    "import numpy as np"
   ]
  },
  {
   "cell_type": "code",
   "execution_count": 2,
   "metadata": {},
   "outputs": [],
   "source": [
    "data = pd.read_csv(\"HeartDisease.csv\")"
   ]
  },
  {
   "cell_type": "code",
   "execution_count": 3,
   "metadata": {
    "scrolled": true
   },
   "outputs": [
    {
     "data": {
      "text/html": [
       "<div>\n",
       "<style scoped>\n",
       "    .dataframe tbody tr th:only-of-type {\n",
       "        vertical-align: middle;\n",
       "    }\n",
       "\n",
       "    .dataframe tbody tr th {\n",
       "        vertical-align: top;\n",
       "    }\n",
       "\n",
       "    .dataframe thead th {\n",
       "        text-align: right;\n",
       "    }\n",
       "</style>\n",
       "<table border=\"1\" class=\"dataframe\">\n",
       "  <thead>\n",
       "    <tr style=\"text-align: right;\">\n",
       "      <th></th>\n",
       "      <th>ID</th>\n",
       "      <th>Age</th>\n",
       "      <th>Sex</th>\n",
       "      <th>cp</th>\n",
       "      <th>trestbps</th>\n",
       "      <th>chol</th>\n",
       "      <th>fbs</th>\n",
       "      <th>restecg</th>\n",
       "      <th>thalach</th>\n",
       "      <th>exang</th>\n",
       "      <th>oldpeak</th>\n",
       "      <th>num</th>\n",
       "      <th>Place</th>\n",
       "    </tr>\n",
       "  </thead>\n",
       "  <tbody>\n",
       "    <tr>\n",
       "      <th>0</th>\n",
       "      <td>1</td>\n",
       "      <td>28</td>\n",
       "      <td>1</td>\n",
       "      <td>2</td>\n",
       "      <td>130.0</td>\n",
       "      <td>132.0</td>\n",
       "      <td>0.0</td>\n",
       "      <td>2.0</td>\n",
       "      <td>185.0</td>\n",
       "      <td>0.0</td>\n",
       "      <td>0.0</td>\n",
       "      <td>0</td>\n",
       "      <td>Hungary</td>\n",
       "    </tr>\n",
       "    <tr>\n",
       "      <th>1</th>\n",
       "      <td>2</td>\n",
       "      <td>29</td>\n",
       "      <td>1</td>\n",
       "      <td>2</td>\n",
       "      <td>120.0</td>\n",
       "      <td>243.0</td>\n",
       "      <td>0.0</td>\n",
       "      <td>0.0</td>\n",
       "      <td>160.0</td>\n",
       "      <td>0.0</td>\n",
       "      <td>0.0</td>\n",
       "      <td>0</td>\n",
       "      <td>Hungary</td>\n",
       "    </tr>\n",
       "    <tr>\n",
       "      <th>2</th>\n",
       "      <td>3</td>\n",
       "      <td>29</td>\n",
       "      <td>1</td>\n",
       "      <td>2</td>\n",
       "      <td>140.0</td>\n",
       "      <td>NaN</td>\n",
       "      <td>0.0</td>\n",
       "      <td>0.0</td>\n",
       "      <td>170.0</td>\n",
       "      <td>0.0</td>\n",
       "      <td>0.0</td>\n",
       "      <td>0</td>\n",
       "      <td>Hungary</td>\n",
       "    </tr>\n",
       "    <tr>\n",
       "      <th>3</th>\n",
       "      <td>4</td>\n",
       "      <td>30</td>\n",
       "      <td>0</td>\n",
       "      <td>1</td>\n",
       "      <td>170.0</td>\n",
       "      <td>237.0</td>\n",
       "      <td>0.0</td>\n",
       "      <td>1.0</td>\n",
       "      <td>170.0</td>\n",
       "      <td>0.0</td>\n",
       "      <td>0.0</td>\n",
       "      <td>0</td>\n",
       "      <td>Hungary</td>\n",
       "    </tr>\n",
       "    <tr>\n",
       "      <th>4</th>\n",
       "      <td>5</td>\n",
       "      <td>31</td>\n",
       "      <td>0</td>\n",
       "      <td>2</td>\n",
       "      <td>100.0</td>\n",
       "      <td>219.0</td>\n",
       "      <td>0.0</td>\n",
       "      <td>1.0</td>\n",
       "      <td>150.0</td>\n",
       "      <td>0.0</td>\n",
       "      <td>0.0</td>\n",
       "      <td>0</td>\n",
       "      <td>Hungary</td>\n",
       "    </tr>\n",
       "  </tbody>\n",
       "</table>\n",
       "</div>"
      ],
      "text/plain": [
       "   ID  Age  Sex  cp  trestbps   chol  fbs  restecg  thalach  exang  oldpeak  \\\n",
       "0   1   28    1   2     130.0  132.0  0.0      2.0    185.0    0.0      0.0   \n",
       "1   2   29    1   2     120.0  243.0  0.0      0.0    160.0    0.0      0.0   \n",
       "2   3   29    1   2     140.0    NaN  0.0      0.0    170.0    0.0      0.0   \n",
       "3   4   30    0   1     170.0  237.0  0.0      1.0    170.0    0.0      0.0   \n",
       "4   5   31    0   2     100.0  219.0  0.0      1.0    150.0    0.0      0.0   \n",
       "\n",
       "   num    Place  \n",
       "0    0  Hungary  \n",
       "1    0  Hungary  \n",
       "2    0  Hungary  \n",
       "3    0  Hungary  \n",
       "4    0  Hungary  "
      ]
     },
     "execution_count": 3,
     "metadata": {},
     "output_type": "execute_result"
    }
   ],
   "source": [
    "data.head()"
   ]
  },
  {
   "cell_type": "code",
   "execution_count": 4,
   "metadata": {
    "scrolled": true
   },
   "outputs": [
    {
     "data": {
      "text/plain": [
       "(457, 13)"
      ]
     },
     "execution_count": 4,
     "metadata": {},
     "output_type": "execute_result"
    }
   ],
   "source": [
    "data.shape"
   ]
  },
  {
   "cell_type": "markdown",
   "metadata": {},
   "source": [
    "# 2. Data Exploration"
   ]
  },
  {
   "cell_type": "markdown",
   "metadata": {},
   "source": [
    "## Variable Identification"
   ]
  },
  {
   "cell_type": "markdown",
   "metadata": {},
   "source": [
    "1. id: patient identification number\n",
    "3. age: age in years\n",
    "4. sex: sex (1 = male; 0 = female)\n",
    "9. cp: chest pain type\n",
    "    -- Value 1: typical angina\n",
    "    -- Value 2: atypical angina\n",
    "    -- Value 3: non-anginal pain\n",
    "    -- Value 4: asymptomatic\n",
    "10. trestbps: resting blood pressure (in mm Hg on admission to the hospital)\n",
    "12. chol: serum cholestoral in mg/dl\n",
    "16. fbs: (fasting blood sugar > 120 mg/dl)  (1 = true; 0 = false)\n",
    "19. restecg: resting electrocardiographic results\n",
    "    -- Value 0: normal\n",
    "    -- Value 1: having ST-T wave abnormality (T wave inversions and/or ST elevation or depression of > 0.05 mV)\n",
    "    -- Value 2: showing probable or definite left ventricular hypertrophy by Estes' criteria\n",
    "32. thalach: maximum heart rate achieved\n",
    "38. exang: exercise induced angina (1 = yes; 0 = no)\n",
    "40. oldpeak = ST depression induced by exercise relative to rest\n",
    "58. num: diagnosis of heart disease (angiographic disease status)\n",
    "    -- Value 0: < 50% diameter narrowing\n",
    "    -- Value 1: > 50% diameter narrowing (in any major vessel: attributes 59 through 68 are vessels)\n",
    "59. place: Collection Country"
   ]
  },
  {
   "cell_type": "code",
   "execution_count": 50,
   "metadata": {},
   "outputs": [
    {
     "data": {
      "text/plain": [
       "75.0"
      ]
     },
     "execution_count": 50,
     "metadata": {},
     "output_type": "execute_result"
    }
   ],
   "source": [
    "data['Age'].max()"
   ]
  },
  {
   "cell_type": "code",
   "execution_count": 6,
   "metadata": {
    "scrolled": false
   },
   "outputs": [
    {
     "name": "stdout",
     "output_type": "stream",
     "text": [
      "<class 'pandas.core.frame.DataFrame'>\n",
      "RangeIndex: 457 entries, 0 to 456\n",
      "Data columns (total 13 columns):\n",
      "ID          457 non-null int64\n",
      "Age         457 non-null int64\n",
      "Sex         457 non-null int64\n",
      "cp          457 non-null int64\n",
      "trestbps    424 non-null float64\n",
      "chol        431 non-null float64\n",
      "fbs         403 non-null float64\n",
      "restecg     455 non-null float64\n",
      "thalach     424 non-null float64\n",
      "exang       424 non-null float64\n",
      "oldpeak     421 non-null float64\n",
      "num         457 non-null int64\n",
      "Place       457 non-null object\n",
      "dtypes: float64(7), int64(5), object(1)\n",
      "memory usage: 46.5+ KB\n"
     ]
    }
   ],
   "source": [
    "data.info()"
   ]
  },
  {
   "cell_type": "code",
   "execution_count": 31,
   "metadata": {},
   "outputs": [],
   "source": [
    "categorical_cols = ['Sex', 'cp', 'fbs', 'restecg', 'exang']\n",
    "numerical_col = ['Age', 'trestbps', 'chol', 'thalach', 'oldpeak']"
   ]
  },
  {
   "cell_type": "code",
   "execution_count": 8,
   "metadata": {
    "scrolled": false
   },
   "outputs": [
    {
     "data": {
      "text/html": [
       "<div>\n",
       "<style scoped>\n",
       "    .dataframe tbody tr th:only-of-type {\n",
       "        vertical-align: middle;\n",
       "    }\n",
       "\n",
       "    .dataframe tbody tr th {\n",
       "        vertical-align: top;\n",
       "    }\n",
       "\n",
       "    .dataframe thead th {\n",
       "        text-align: right;\n",
       "    }\n",
       "</style>\n",
       "<table border=\"1\" class=\"dataframe\">\n",
       "  <thead>\n",
       "    <tr style=\"text-align: right;\">\n",
       "      <th></th>\n",
       "      <th>count</th>\n",
       "      <th>mean</th>\n",
       "      <th>std</th>\n",
       "      <th>min</th>\n",
       "      <th>25%</th>\n",
       "      <th>50%</th>\n",
       "      <th>75%</th>\n",
       "      <th>max</th>\n",
       "    </tr>\n",
       "  </thead>\n",
       "  <tbody>\n",
       "    <tr>\n",
       "      <th>Age</th>\n",
       "      <td>457.0</td>\n",
       "      <td>50.962801</td>\n",
       "      <td>9.219588</td>\n",
       "      <td>28.0</td>\n",
       "      <td>45.0</td>\n",
       "      <td>52.0</td>\n",
       "      <td>57.0</td>\n",
       "      <td>75.0</td>\n",
       "    </tr>\n",
       "    <tr>\n",
       "      <th>trestbps</th>\n",
       "      <td>424.0</td>\n",
       "      <td>131.488208</td>\n",
       "      <td>18.829454</td>\n",
       "      <td>80.0</td>\n",
       "      <td>120.0</td>\n",
       "      <td>130.0</td>\n",
       "      <td>140.0</td>\n",
       "      <td>200.0</td>\n",
       "    </tr>\n",
       "    <tr>\n",
       "      <th>chol</th>\n",
       "      <td>431.0</td>\n",
       "      <td>200.048724</td>\n",
       "      <td>113.463794</td>\n",
       "      <td>0.0</td>\n",
       "      <td>171.0</td>\n",
       "      <td>220.0</td>\n",
       "      <td>269.5</td>\n",
       "      <td>603.0</td>\n",
       "    </tr>\n",
       "    <tr>\n",
       "      <th>thalach</th>\n",
       "      <td>424.0</td>\n",
       "      <td>134.910377</td>\n",
       "      <td>24.251177</td>\n",
       "      <td>69.0</td>\n",
       "      <td>118.0</td>\n",
       "      <td>135.0</td>\n",
       "      <td>150.0</td>\n",
       "      <td>190.0</td>\n",
       "    </tr>\n",
       "    <tr>\n",
       "      <th>oldpeak</th>\n",
       "      <td>421.0</td>\n",
       "      <td>0.622090</td>\n",
       "      <td>0.922115</td>\n",
       "      <td>-2.6</td>\n",
       "      <td>0.0</td>\n",
       "      <td>0.0</td>\n",
       "      <td>1.0</td>\n",
       "      <td>5.0</td>\n",
       "    </tr>\n",
       "  </tbody>\n",
       "</table>\n",
       "</div>"
      ],
      "text/plain": [
       "          count        mean         std   min    25%    50%    75%    max\n",
       "Age       457.0   50.962801    9.219588  28.0   45.0   52.0   57.0   75.0\n",
       "trestbps  424.0  131.488208   18.829454  80.0  120.0  130.0  140.0  200.0\n",
       "chol      431.0  200.048724  113.463794   0.0  171.0  220.0  269.5  603.0\n",
       "thalach   424.0  134.910377   24.251177  69.0  118.0  135.0  150.0  190.0\n",
       "oldpeak   421.0    0.622090    0.922115  -2.6    0.0    0.0    1.0    5.0"
      ]
     },
     "execution_count": 8,
     "metadata": {},
     "output_type": "execute_result"
    }
   ],
   "source": [
    "data[numerical_col].describe().transpose()"
   ]
  },
  {
   "cell_type": "code",
   "execution_count": 13,
   "metadata": {
    "scrolled": false
   },
   "outputs": [
    {
     "data": {
      "text/plain": [
       "Age          0\n",
       "trestbps    33\n",
       "chol        26\n",
       "thalach     33\n",
       "oldpeak     36\n",
       "Sex          0\n",
       "cp           0\n",
       "fbs         54\n",
       "restecg      2\n",
       "exang       33\n",
       "dtype: int64"
      ]
     },
     "execution_count": 13,
     "metadata": {},
     "output_type": "execute_result"
    }
   ],
   "source": [
    "data[numerical_col+categorical_cols].isnull().sum()"
   ]
  },
  {
   "cell_type": "code",
   "execution_count": 16,
   "metadata": {},
   "outputs": [],
   "source": [
    "for col in numerical_col:\n",
    "    data[col] = data[col].fillna(data[col].median())"
   ]
  },
  {
   "cell_type": "code",
   "execution_count": 18,
   "metadata": {},
   "outputs": [],
   "source": [
    "for col in categorical_cols:\n",
    "    data[col] = data[col].fillna(data[col].value_counts().idxmax())"
   ]
  },
  {
   "cell_type": "code",
   "execution_count": 23,
   "metadata": {
    "scrolled": true
   },
   "outputs": [
    {
     "data": {
      "text/plain": [
       "<matplotlib.figure.Figure at 0x7f6277eecdd8>"
      ]
     },
     "metadata": {},
     "output_type": "display_data"
    },
    {
     "data": {
      "image/png": "[encoded data removed]",
      "text/plain": [
       "<matplotlib.figure.Figure at 0x7f627c129748>"
      ]
     },
     "metadata": {},
     "output_type": "display_data"
    }
   ],
   "source": [
    "import matplotlib.pyplot as plt\n",
    "%matplotlib inline\n",
    "import seaborn as sns\n",
    "sns.set()\n",
    "import numpy as np\n",
    "import warnings\n",
    "warnings.filterwarnings('ignore')\n",
    "\n",
    "def plot_distribution(data, features):\n",
    "    i = 0\n",
    "    plt.figure()\n",
    "    col = 3\n",
    "    row = int(np.ceil(len(features)/col))\n",
    "    fig, ax = plt.subplots(row,col,figsize=(18,15))\n",
    "\n",
    "    for feature in features:\n",
    "        i += 1\n",
    "        plt.subplot(row,col,i);\n",
    "        sns.distplot(tuple(data[feature]))\n",
    "        plt.xlabel(feature, fontsize=16)\n",
    "        locs, labels = plt.xticks()\n",
    "        plt.tick_params(axis='x', which='major', labelsize=12)\n",
    "        plt.tick_params(axis='y', which='major', labelsize=12)\n",
    "    plt.show();\n",
    "    \n",
    "plot_distribution(data, numerical_col)"
   ]
  },
  {
   "cell_type": "code",
   "execution_count": 25,
   "metadata": {
    "scrolled": false
   },
   "outputs": [
    {
     "data": {
      "text/plain": [
       "<matplotlib.figure.Figure at 0x7f62778d2d68>"
      ]
     },
     "metadata": {},
     "output_type": "display_data"
    },
    {
     "data": {
      "image/png": "[encoded data removed]",
      "text/plain": [
       "<matplotlib.figure.Figure at 0x7f62777a8828>"
      ]
     },
     "metadata": {},
     "output_type": "display_data"
    }
   ],
   "source": [
    "def plot_boxplot(data, features):\n",
    "    i = 0\n",
    "    plt.figure()\n",
    "    col = 3\n",
    "    row = int(np.ceil(len(features)/col))\n",
    "    fig, ax = plt.subplots(row,col,figsize=(18,14))\n",
    "\n",
    "    for feature in features:\n",
    "        i += 1\n",
    "        plt.subplot(row,col,i);\n",
    "        sns.boxplot(tuple(data[feature]))\n",
    "        plt.xlabel(feature, fontsize=16)\n",
    "        locs, labels = plt.xticks()\n",
    "        plt.tick_params(axis='x', which='major', labelsize=12)\n",
    "        plt.tick_params(axis='y', which='major', labelsize=12)\n",
    "    plt.show();\n",
    "    \n",
    "plot_boxplot(data, numerical_col)"
   ]
  },
  {
   "cell_type": "code",
   "execution_count": 38,
   "metadata": {},
   "outputs": [],
   "source": [
    "def detect_outlier(feature):\n",
    "    Q1 = feature.quantile(0.25)\n",
    "    Q3 = feature.quantile(0.75)\n",
    "    \n",
    "    IQR = Q3-Q1\n",
    "    \n",
    "    lower_bound = Q1-(1.5*IQR)\n",
    "    upper_bound = Q3+(1.5*IQR)\n",
    "    \n",
    "    return feature.index[(feature<lower_bound)|(feature>upper_bound)].tolist()"
   ]
  },
  {
   "cell_type": "code",
   "execution_count": 39,
   "metadata": {
    "scrolled": true
   },
   "outputs": [
    {
     "name": "stdout",
     "output_type": "stream",
     "text": [
      "Age --> []\n",
      "trestbps --> [35, 72, 84, 172, 181, 245, 266, 292, 314, 315, 338, 354, 382, 437]\n",
      "chol --> [70, 131, 197, 225, 243, 263, 265, 281, 294, 295, 296, 297, 298, 299, 300, 301, 302, 303, 304, 305, 306, 307, 308, 309, 310, 311, 312, 313, 314, 315, 316, 317, 318, 319, 320, 321, 322, 323, 324, 325, 326, 327, 328, 329, 330, 331, 332, 333, 334, 335, 336, 337, 338, 339, 340, 341, 342, 343, 344, 345, 346, 347, 348, 349, 353, 354, 357, 358, 359, 360, 363, 364, 365, 366, 369, 371, 372, 373, 375, 377, 378, 380, 381, 382, 385, 386, 392, 401, 402, 404, 414]\n",
      "thalach --> [336, 392]\n",
      "oldpeak --> [137, 192, 218, 234, 248, 253, 264, 279, 283, 286, 291, 303, 325, 394, 402]\n"
     ]
    }
   ],
   "source": [
    "for col in numerical_col:\n",
    "    print(col,'-->',detect_outlier(data[col]))"
   ]
  },
  {
   "cell_type": "code",
   "execution_count": 40,
   "metadata": {},
   "outputs": [],
   "source": [
    "for col in numerical_col:\n",
    "    indx = detect_outlier(data[col])\n",
    "    data[col].loc[indx] = data[col].median()"
   ]
  },
  {
   "cell_type": "code",
   "execution_count": 42,
   "metadata": {
    "scrolled": true
   },
   "outputs": [
    {
     "data": {
      "image/png": "[encoded data removed]",
      "text/plain": [
       "<matplotlib.figure.Figure at 0x7f627e0b05f8>"
      ]
     },
     "metadata": {},
     "output_type": "display_data"
    }
   ],
   "source": [
    "corr = data[numerical_col+['num']].corr()\n",
    "fig, ax = plt.subplots(figsize=(10,8))  \n",
    "sns.heatmap(corr, \n",
    "            xticklabels=corr.columns.values,\n",
    "            yticklabels=corr.columns.values,\n",
    "            annot=True, fmt=\".2f\");"
   ]
  },
  {
   "cell_type": "code",
   "execution_count": 43,
   "metadata": {
    "scrolled": true
   },
   "outputs": [
    {
     "data": {
      "text/plain": [
       "0    247\n",
       "1    210\n",
       "Name: num, dtype: int64"
      ]
     },
     "execution_count": 43,
     "metadata": {},
     "output_type": "execute_result"
    }
   ],
   "source": [
    "data['num'].value_counts()"
   ]
  },
  {
   "cell_type": "code",
   "execution_count": 54,
   "metadata": {},
   "outputs": [],
   "source": [
    "data['age_group'] = pd.cut(data['Age'],bins=[27, 35, 50, 75], labels=['yong','middle','old'])"
   ]
  },
  {
   "cell_type": "code",
   "execution_count": 57,
   "metadata": {},
   "outputs": [],
   "source": [
    "data = pd.get_dummies(data, columns=categorical_cols, prefix=categorical_cols)"
   ]
  },
  {
   "cell_type": "code",
   "execution_count": 62,
   "metadata": {},
   "outputs": [],
   "source": [
    "data.drop(['ID', 'Place'], axis=1, inplace=True)"
   ]
  },
  {
   "cell_type": "code",
   "execution_count": 63,
   "metadata": {},
   "outputs": [],
   "source": [
    "X = data.loc[:, data.columns!='num']\n",
    "y = data.loc[:, data.columns=='num']"
   ]
  },
  {
   "cell_type": "code",
   "execution_count": 69,
   "metadata": {},
   "outputs": [],
   "source": [
    "from sklearn.model_selection import train_test_split\n",
    "\n",
    "X_train, X_test, y_train, y_test = train_test_split(X, y, test_size=0.20, random_state=1234)"
   ]
  },
  {
   "cell_type": "code",
   "execution_count": 71,
   "metadata": {},
   "outputs": [],
   "source": [
    "from sklearn.linear_model import LogisticRegression\n",
    "from sklearn.tree import DecisionTreeClassifier"
   ]
  },
  {
   "cell_type": "code",
   "execution_count": 72,
   "metadata": {},
   "outputs": [
    {
     "data": {
      "text/plain": [
       "DecisionTreeClassifier(class_weight=None, criterion='gini', max_depth=None,\n",
       "            max_features=None, max_leaf_nodes=None,\n",
       "            min_impurity_decrease=0.0, min_impurity_split=None,\n",
       "            min_samples_leaf=1, min_samples_split=2,\n",
       "            min_weight_fraction_leaf=0.0, presort=False, random_state=None,\n",
       "            splitter='best')"
      ]
     },
     "execution_count": 72,
     "metadata": {},
     "output_type": "execute_result"
    }
   ],
   "source": [
    "DecisionTreeClassifier()"
   ]
  },
  {
   "cell_type": "code",
   "execution_count": 73,
   "metadata": {},
   "outputs": [
    {
     "data": {
      "text/plain": [
       "array([10, 25, 40, 55, 70, 85])"
      ]
     },
     "execution_count": 73,
     "metadata": {},
     "output_type": "execute_result"
    }
   ],
   "source": [
    "np.arange(10, 100, 15)"
   ]
  },
  {
   "cell_type": "code",
   "execution_count": 78,
   "metadata": {},
   "outputs": [],
   "source": [
    "from sklearn.model_selection import RandomizedSearchCV\n",
    "\n",
    "param_grid_lr = {\n",
    "    'C': np.logspace(-5, 8, 15),\n",
    "    'penalty': ['l1', 'l2']\n",
    "}\n",
    "\n",
    "param_grid_dt = {\n",
    "    'criterion': ['gini', 'entropy'],\n",
    "    'min_samples_split': np.arange(2,20,5)\n",
    "}"
   ]
  },
  {
   "cell_type": "code",
   "execution_count": 75,
   "metadata": {},
   "outputs": [],
   "source": [
    "def randomsearch(X, y, estimator, param_grid, cv=5, n_iter=10, n_jobs=2, random_state=1234):\n",
    "    random = RandomizedSearchCV(estimator=estimator, \n",
    "                                param_distributions=param_grid, \n",
    "                                cv=cv, \n",
    "                                n_iter=n_iter, \n",
    "                                n_jobs=n_jobs,\n",
    "                                random_state=random_state)\n",
    "    random.fit(X, y)\n",
    "    return random.best_params_"
   ]
  },
  {
   "cell_type": "code",
   "execution_count": 80,
   "metadata": {},
   "outputs": [
    {
     "name": "stderr",
     "output_type": "stream",
     "text": [
      "/home/imran/anaconda3/lib/python3.7/site-packages/sklearn/model_selection/_search.py:841: DeprecationWarning: The default of the `iid` parameter will change from True to False in version 0.22 and will be removed in 0.24. This will change numeric results when test-set sizes are unequal.\n",
      "  DeprecationWarning)\n"
     ]
    },
    {
     "data": {
      "text/plain": [
       "{'penalty': 'l2', 'C': 3.727593720314938}"
      ]
     },
     "execution_count": 80,
     "metadata": {},
     "output_type": "execute_result"
    }
   ],
   "source": [
    "randomsearch(X_train, y_train, LogisticRegression(), param_grid_lr)"
   ]
  },
  {
   "cell_type": "code",
   "execution_count": 79,
   "metadata": {
    "scrolled": true
   },
   "outputs": [
    {
     "name": "stderr",
     "output_type": "stream",
     "text": [
      "/home/imran/anaconda3/lib/python3.7/site-packages/sklearn/model_selection/_search.py:841: DeprecationWarning: The default of the `iid` parameter will change from True to False in version 0.22 and will be removed in 0.24. This will change numeric results when test-set sizes are unequal.\n",
      "  DeprecationWarning)\n"
     ]
    },
    {
     "data": {
      "text/plain": [
       "{'min_samples_split': 12, 'criterion': 'entropy'}"
      ]
     },
     "execution_count": 79,
     "metadata": {},
     "output_type": "execute_result"
    }
   ],
   "source": [
    "randomsearch(X_train, y_train, DecisionTreeClassifier(), param_grid_dt)"
   ]
  },
  {
   "cell_type": "code",
   "execution_count": 82,
   "metadata": {},
   "outputs": [],
   "source": [
    "model1 = LogisticRegression(penalty='l2', C=3.727593720314938).fit(X_train, y_train)\n",
    "m1_ypred = model1.predict(X_test)\n",
    "\n",
    "model2 = DecisionTreeClassifier(min_samples_split= 12, criterion='entropy').fit(X_train, y_train)\n",
    "m2_ypred = model2.predict(X_test)"
   ]
  },
  {
   "cell_type": "code",
   "execution_count": 85,
   "metadata": {
    "scrolled": false
   },
   "outputs": [
    {
     "name": "stdout",
     "output_type": "stream",
     "text": [
      "0.8586956521739131\n",
      "[[48  2]\n",
      " [11 31]]\n"
     ]
    }
   ],
   "source": [
    "from sklearn.metrics import accuracy_score, confusion_matrix\n",
    "\n",
    "m1_acc = accuracy_score(y_test, m1_ypred)\n",
    "print(m1_acc)\n",
    "\n",
    "print(confusion_matrix(y_test, m1_ypred))"
   ]
  },
  {
   "cell_type": "code",
   "execution_count": 87,
   "metadata": {
    "scrolled": true
   },
   "outputs": [
    {
     "name": "stdout",
     "output_type": "stream",
     "text": [
      "0.782608695652174\n",
      "[[41  9]\n",
      " [11 31]]\n"
     ]
    }
   ],
   "source": [
    "m2_acc = accuracy_score(y_test, m2_ypred)\n",
    "print(m2_acc)\n",
    "\n",
    "print(confusion_matrix(y_test, m2_ypred))"
   ]
  },
  {
   "cell_type": "code",
   "execution_count": 89,
   "metadata": {
    "scrolled": true
   },
   "outputs": [
    {
     "name": "stdout",
     "output_type": "stream",
     "text": [
      "Intercept of the Regression model: 0.06894406742893147\n",
      "\n",
      "Slope/Coefficients of the Regression model:\n"
     ]
    },
    {
     "data": {
      "text/html": [
       "<div>\n",
       "<style scoped>\n",
       "    .dataframe tbody tr th:only-of-type {\n",
       "        vertical-align: middle;\n",
       "    }\n",
       "\n",
       "    .dataframe tbody tr th {\n",
       "        vertical-align: top;\n",
       "    }\n",
       "\n",
       "    .dataframe thead th {\n",
       "        text-align: right;\n",
       "    }\n",
       "</style>\n",
       "<table border=\"1\" class=\"dataframe\">\n",
       "  <thead>\n",
       "    <tr style=\"text-align: right;\">\n",
       "      <th></th>\n",
       "      <th>Coefficient</th>\n",
       "    </tr>\n",
       "  </thead>\n",
       "  <tbody>\n",
       "    <tr>\n",
       "      <th>cp_4</th>\n",
       "      <td>0.944657</td>\n",
       "    </tr>\n",
       "    <tr>\n",
       "      <th>age_group_yong</th>\n",
       "      <td>0.906727</td>\n",
       "    </tr>\n",
       "    <tr>\n",
       "      <th>exang_1.0</th>\n",
       "      <td>0.578900</td>\n",
       "    </tr>\n",
       "    <tr>\n",
       "      <th>Sex_1</th>\n",
       "      <td>0.449206</td>\n",
       "    </tr>\n",
       "    <tr>\n",
       "      <th>fbs_1.0</th>\n",
       "      <td>0.440341</td>\n",
       "    </tr>\n",
       "    <tr>\n",
       "      <th>oldpeak</th>\n",
       "      <td>0.362546</td>\n",
       "    </tr>\n",
       "    <tr>\n",
       "      <th>restecg_0.0</th>\n",
       "      <td>0.305008</td>\n",
       "    </tr>\n",
       "    <tr>\n",
       "      <th>cp_1</th>\n",
       "      <td>0.196633</td>\n",
       "    </tr>\n",
       "    <tr>\n",
       "      <th>Age</th>\n",
       "      <td>0.042878</td>\n",
       "    </tr>\n",
       "    <tr>\n",
       "      <th>chol</th>\n",
       "      <td>0.000280</td>\n",
       "    </tr>\n",
       "    <tr>\n",
       "      <th>cp_3</th>\n",
       "      <td>-0.001897</td>\n",
       "    </tr>\n",
       "    <tr>\n",
       "      <th>thalach</th>\n",
       "      <td>-0.006531</td>\n",
       "    </tr>\n",
       "    <tr>\n",
       "      <th>trestbps</th>\n",
       "      <td>-0.010020</td>\n",
       "    </tr>\n",
       "    <tr>\n",
       "      <th>restecg_2.0</th>\n",
       "      <td>-0.135752</td>\n",
       "    </tr>\n",
       "    <tr>\n",
       "      <th>restecg_1.0</th>\n",
       "      <td>-0.238200</td>\n",
       "    </tr>\n",
       "    <tr>\n",
       "      <th>age_group_middle</th>\n",
       "      <td>-0.312715</td>\n",
       "    </tr>\n",
       "    <tr>\n",
       "      <th>fbs_0.0</th>\n",
       "      <td>-0.509286</td>\n",
       "    </tr>\n",
       "    <tr>\n",
       "      <th>Sex_0</th>\n",
       "      <td>-0.518150</td>\n",
       "    </tr>\n",
       "    <tr>\n",
       "      <th>exang_0.0</th>\n",
       "      <td>-0.647844</td>\n",
       "    </tr>\n",
       "    <tr>\n",
       "      <th>age_group_old</th>\n",
       "      <td>-0.662956</td>\n",
       "    </tr>\n",
       "    <tr>\n",
       "      <th>cp_2</th>\n",
       "      <td>-1.208337</td>\n",
       "    </tr>\n",
       "  </tbody>\n",
       "</table>\n",
       "</div>"
      ],
      "text/plain": [
       "                  Coefficient\n",
       "cp_4                 0.944657\n",
       "age_group_yong       0.906727\n",
       "exang_1.0            0.578900\n",
       "Sex_1                0.449206\n",
       "fbs_1.0              0.440341\n",
       "oldpeak              0.362546\n",
       "restecg_0.0          0.305008\n",
       "cp_1                 0.196633\n",
       "Age                  0.042878\n",
       "chol                 0.000280\n",
       "cp_3                -0.001897\n",
       "thalach             -0.006531\n",
       "trestbps            -0.010020\n",
       "restecg_2.0         -0.135752\n",
       "restecg_1.0         -0.238200\n",
       "age_group_middle    -0.312715\n",
       "fbs_0.0             -0.509286\n",
       "Sex_0               -0.518150\n",
       "exang_0.0           -0.647844\n",
       "age_group_old       -0.662956\n",
       "cp_2                -1.208337"
      ]
     },
     "execution_count": 89,
     "metadata": {},
     "output_type": "execute_result"
    }
   ],
   "source": [
    "print('Intercept of the Regression model:', -model1.intercept_[0])\n",
    "print('\\nSlope/Coefficients of the Regression model:')\n",
    "slope = pd.DataFrame(model1.coef_.T, X_train.columns, columns=['Coefficient']).sort_values(by='Coefficient', ascending=False)\n",
    "slope"
   ]
  },
  {
   "cell_type": "code",
   "execution_count": 90,
   "metadata": {},
   "outputs": [
    {
     "data": {
      "image/png": "[encoded data removed]",
      "text/plain": [
       "<matplotlib.figure.Figure at 0x7f627e61f860>"
      ]
     },
     "metadata": {},
     "output_type": "display_data"
    }
   ],
   "source": [
    "coef = pd.Series(model2.feature_importances_, index = X.columns)\n",
    "imp_coef = coef.sort_values(ascending=False)\n",
    "\n",
    "def plot_importance(feat_imp, feat_name):\n",
    "    fig, ax = plt.subplots(figsize=(8,5)) \n",
    "    sns.set(style=\"darkgrid\", context=\"poster\")\n",
    "    sns.barplot(feat_imp, feat_name, palette=\"deep\")\n",
    "    plt.title(\"Feature importance\", fontsize=14)\n",
    "    plt.tick_params(axis='x', labelsize=13)\n",
    "    plt.tick_params(axis='y', labelsize=13)\n",
    "    plt.tight_layout()\n",
    "    \n",
    "plot_importance(imp_coef.values, imp_coef.index)"
   ]
  }
 ],
 "metadata": {
  "kernelspec": {
   "display_name": "Python 3",
   "language": "python",
   "name": "python3"
  },
  "language_info": {
   "codemirror_mode": {
    "name": "ipython",
    "version": 3
   },
   "file_extension": ".py",
   "mimetype": "text/x-python",
   "name": "python",
   "nbconvert_exporter": "python",
   "pygments_lexer": "ipython3",
   "version": "3.7.1"
  }
 },
 "nbformat": 4,
 "nbformat_minor": 2
}
